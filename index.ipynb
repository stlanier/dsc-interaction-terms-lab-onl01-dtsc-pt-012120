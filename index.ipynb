{
 "cells": [
  {
   "cell_type": "markdown",
   "metadata": {},
   "source": [
    "# Interactions - Lab"
   ]
  },
  {
   "cell_type": "markdown",
   "metadata": {},
   "source": [
    "## Introduction"
   ]
  },
  {
   "cell_type": "markdown",
   "metadata": {},
   "source": [
    "In this lab, you'll explore interactions in the Ames Housing dataset."
   ]
  },
  {
   "cell_type": "markdown",
   "metadata": {},
   "source": [
    "## Objectives"
   ]
  },
  {
   "cell_type": "markdown",
   "metadata": {},
   "source": [
    "You will be able to:\n",
    "- Implement interaction terms in Python using the `sklearn` and `statsmodels` packages \n",
    "- Interpret interaction variables in the context of a real-world problem "
   ]
  },
  {
   "cell_type": "markdown",
   "metadata": {},
   "source": [
    "## Build a baseline model "
   ]
  },
  {
   "cell_type": "markdown",
   "metadata": {},
   "source": [
    "You'll use a couple of built-in functions, which we imported for you below: "
   ]
  },
  {
   "cell_type": "code",
   "execution_count": 1,
   "metadata": {},
   "outputs": [],
   "source": [
    "from sklearn.linear_model import LinearRegression\n",
    "from sklearn.model_selection import cross_val_score\n",
    "from sklearn.model_selection import KFold\n",
    "import pandas as pd\n",
    "import numpy as np\n",
    "import matplotlib.pyplot as plt"
   ]
  },
  {
   "cell_type": "markdown",
   "metadata": {},
   "source": [
    "If you still want to build a model in the end, you can do that, but this lab will just focus on finding meaningful insights in interactions and how they can improve $R^2$ values."
   ]
  },
  {
   "cell_type": "code",
   "execution_count": 2,
   "metadata": {},
   "outputs": [],
   "source": [
    "regression = LinearRegression()"
   ]
  },
  {
   "cell_type": "markdown",
   "metadata": {},
   "source": [
    "Create a baseline model which includes all the variables we selected from the Ames housing data set to predict the house prices. Then use 10-fold cross-validation and report the mean $R^2$ value as the baseline $R^2$."
   ]
  },
  {
   "cell_type": "code",
   "execution_count": 3,
   "metadata": {},
   "outputs": [],
   "source": [
    "ames = pd.read_csv('ames.csv')\n",
    "continuous = ['LotArea', '1stFlrSF', 'GrLivArea', 'SalePrice']\n",
    "categoricals = ['BldgType', 'KitchenQual', 'SaleType', 'MSZoning', 'Street', 'Neighborhood']\n",
    "ames_cont = ames[continuous]\n",
    "ames_cat = ames[categoricals]"
   ]
  },
  {
   "cell_type": "code",
   "execution_count": 4,
   "metadata": {},
   "outputs": [
    {
     "name": "stderr",
     "output_type": "stream",
     "text": [
      "/Users/stlanier/opt/anaconda3/envs/learn-env/lib/python3.6/site-packages/ipykernel_launcher.py:3: SettingWithCopyWarning: \n",
      "A value is trying to be set on a copy of a slice from a DataFrame.\n",
      "Try using .loc[row_indexer,col_indexer] = value instead\n",
      "\n",
      "See the caveats in the documentation: http://pandas.pydata.org/pandas-docs/stable/user_guide/indexing.html#returning-a-view-versus-a-copy\n",
      "  This is separate from the ipykernel package so we can avoid doing imports until\n"
     ]
    }
   ],
   "source": [
    "log_names = [f'{column}_log' for column in ames_cont.columns]\n",
    "for col in ames_cont.columns:\n",
    "    ames_cont[col] = np.log(ames_cont[col])\n",
    "ames_cont.columns = log_names"
   ]
  },
  {
   "cell_type": "code",
   "execution_count": 5,
   "metadata": {},
   "outputs": [
    {
     "name": "stderr",
     "output_type": "stream",
     "text": [
      "/Users/stlanier/opt/anaconda3/envs/learn-env/lib/python3.6/site-packages/ipykernel_launcher.py:2: SettingWithCopyWarning: \n",
      "A value is trying to be set on a copy of a slice from a DataFrame.\n",
      "Try using .loc[row_indexer,col_indexer] = value instead\n",
      "\n",
      "See the caveats in the documentation: http://pandas.pydata.org/pandas-docs/stable/user_guide/indexing.html#returning-a-view-versus-a-copy\n",
      "  \n"
     ]
    }
   ],
   "source": [
    "for col in ames_cont.columns:\n",
    "    ames_cont[col] = (ames_cont[col]-ames_cont[col].mean()) / ames_cont[col].std()\n",
    "\n",
    "ames_cat = pd.get_dummies(ames_cat)"
   ]
  },
  {
   "cell_type": "code",
   "execution_count": 6,
   "metadata": {
    "scrolled": true
   },
   "outputs": [],
   "source": [
    "ames_prep = pd.concat([ames_cont, ames_cat], axis=1)\n",
    "X = ames_prep.drop('SalePrice_log', axis=1)\n",
    "y = ames_prep['SalePrice_log']"
   ]
  },
  {
   "cell_type": "code",
   "execution_count": 7,
   "metadata": {},
   "outputs": [
    {
     "data": {
      "text/plain": [
       "0.8174460502095708"
      ]
     },
     "execution_count": 7,
     "metadata": {},
     "output_type": "execute_result"
    }
   ],
   "source": [
    "crossvalidation = KFold(n_splits=10, shuffle=True, random_state=1)\n",
    "cross_vals = cross_val_score(regression, X, y, scoring='r2', cv=crossvalidation)\n",
    "baseline = np.mean(cross_vals)\n",
    "baseline"
   ]
  },
  {
   "cell_type": "markdown",
   "metadata": {},
   "source": [
    "## See how interactions improve your baseline"
   ]
  },
  {
   "cell_type": "markdown",
   "metadata": {},
   "source": [
    "Next, create all possible combinations of interactions, loop over them and add them to the baseline model one by one to see how they affect the $R^2$. We'll look at the 3 interactions which have the biggest effect on our $R^2$, so print out the top 3 combinations.\n",
    "\n",
    "You will create a `for` loop to loop through all the combinations of 2 predictors. You can use `combinations` from itertools to create a list of all the pairwise combinations. To find more info on how this is done, have a look [here](https://docs.python.org/2/library/itertools.html).\n",
    "\n",
    "Since there are so many different neighbourhoods we will exclude"
   ]
  },
  {
   "cell_type": "code",
   "execution_count": 8,
   "metadata": {},
   "outputs": [],
   "source": [
    "from itertools import combinations"
   ]
  },
  {
   "cell_type": "code",
   "execution_count": 9,
   "metadata": {},
   "outputs": [],
   "source": [
    "combos = list(combinations(X.columns, 2))\n",
    "r2s = []\n",
    "X_try = X.copy()\n",
    "for combo in combos:\n",
    "    X_try['interact'] = X_try[combo[0]]*X_try[combo[1]]\n",
    "    r2s.append(np.mean(cross_val_score(regression, X_try, y, scoring='r2', cv=crossvalidation)))"
   ]
  },
  {
   "cell_type": "code",
   "execution_count": 10,
   "metadata": {},
   "outputs": [
    {
     "data": {
      "text/html": [
       "<div>\n",
       "<style scoped>\n",
       "    .dataframe tbody tr th:only-of-type {\n",
       "        vertical-align: middle;\n",
       "    }\n",
       "\n",
       "    .dataframe tbody tr th {\n",
       "        vertical-align: top;\n",
       "    }\n",
       "\n",
       "    .dataframe thead th {\n",
       "        text-align: right;\n",
       "    }\n",
       "</style>\n",
       "<table border=\"1\" class=\"dataframe\">\n",
       "  <thead>\n",
       "    <tr style=\"text-align: right;\">\n",
       "      <th></th>\n",
       "      <th>combo</th>\n",
       "      <th>score</th>\n",
       "    </tr>\n",
       "  </thead>\n",
       "  <tbody>\n",
       "    <tr>\n",
       "      <td>411</td>\n",
       "      <td>(KitchenQual_Ex, Neighborhood_ClearCr)</td>\n",
       "      <td>0.820341</td>\n",
       "    </tr>\n",
       "    <tr>\n",
       "      <td>271</td>\n",
       "      <td>(BldgType_Duplex, Street_Pave)</td>\n",
       "      <td>0.819656</td>\n",
       "    </tr>\n",
       "    <tr>\n",
       "      <td>270</td>\n",
       "      <td>(BldgType_Duplex, Street_Grvl)</td>\n",
       "      <td>0.819649</td>\n",
       "    </tr>\n",
       "    <tr>\n",
       "      <td>105</td>\n",
       "      <td>(GrLivArea_log, BldgType_Duplex)</td>\n",
       "      <td>0.819634</td>\n",
       "    </tr>\n",
       "    <tr>\n",
       "      <td>111</td>\n",
       "      <td>(GrLivArea_log, KitchenQual_TA)</td>\n",
       "      <td>0.819577</td>\n",
       "    </tr>\n",
       "    <tr>\n",
       "      <td>38</td>\n",
       "      <td>(LotArea_log, Neighborhood_Mitchel)</td>\n",
       "      <td>0.819575</td>\n",
       "    </tr>\n",
       "    <tr>\n",
       "      <td>30</td>\n",
       "      <td>(LotArea_log, Neighborhood_BrkSide)</td>\n",
       "      <td>0.819513</td>\n",
       "    </tr>\n",
       "    <tr>\n",
       "      <td>279</td>\n",
       "      <td>(BldgType_Duplex, Neighborhood_Edwards)</td>\n",
       "      <td>0.819293</td>\n",
       "    </tr>\n",
       "    <tr>\n",
       "      <td>110</td>\n",
       "      <td>(GrLivArea_log, KitchenQual_Gd)</td>\n",
       "      <td>0.81929</td>\n",
       "    </tr>\n",
       "    <tr>\n",
       "      <td>43</td>\n",
       "      <td>(LotArea_log, Neighborhood_NridgHt)</td>\n",
       "      <td>0.819208</td>\n",
       "    </tr>\n",
       "  </tbody>\n",
       "</table>\n",
       "</div>"
      ],
      "text/plain": [
       "                                       combo     score\n",
       "411   (KitchenQual_Ex, Neighborhood_ClearCr)  0.820341\n",
       "271           (BldgType_Duplex, Street_Pave)  0.819656\n",
       "270           (BldgType_Duplex, Street_Grvl)  0.819649\n",
       "105         (GrLivArea_log, BldgType_Duplex)  0.819634\n",
       "111          (GrLivArea_log, KitchenQual_TA)  0.819577\n",
       "38       (LotArea_log, Neighborhood_Mitchel)  0.819575\n",
       "30       (LotArea_log, Neighborhood_BrkSide)  0.819513\n",
       "279  (BldgType_Duplex, Neighborhood_Edwards)  0.819293\n",
       "110          (GrLivArea_log, KitchenQual_Gd)   0.81929\n",
       "43       (LotArea_log, Neighborhood_NridgHt)  0.819208"
      ]
     },
     "execution_count": 10,
     "metadata": {},
     "output_type": "execute_result"
    }
   ],
   "source": [
    "results = pd.DataFrame([combos, r2s]).transpose()\n",
    "results.columns = ['combo', 'score']\n",
    "results.sort_values(by='score', ascending=False).head(10)"
   ]
  },
  {
   "cell_type": "markdown",
   "metadata": {},
   "source": [
    "It looks like the top interactions involve the Neighborhood_Edwards feature so lets add the interaction between LotArea and Edwards to our model.\n",
    "\n",
    "We can interpret this feature as the relationship between LotArea and SalePrice when the house is in Edwards or not."
   ]
  },
  {
   "cell_type": "markdown",
   "metadata": {},
   "source": [
    "## Visualize the Interaction\n",
    "\n",
    "Separate all houses that are located in Edwards and those that are not. Run a linear regression on each population against `SalePrice`. Visualize the regression line and data points with price on the y axis and LotArea on the x axis."
   ]
  },
  {
   "cell_type": "code",
   "execution_count": 11,
   "metadata": {},
   "outputs": [
    {
     "data": {
      "text/plain": [
       "<matplotlib.collections.PathCollection at 0x1a1cf17be0>"
      ]
     },
     "execution_count": 11,
     "metadata": {},
     "output_type": "execute_result"
    },
    {
     "data": {
      "image/png": "[encoded data removed]",
      "text/plain": [
       "<Figure size 432x288 with 1 Axes>"
      ]
     },
     "metadata": {
      "needs_background": "light"
     },
     "output_type": "display_data"
    }
   ],
   "source": [
    "yduplex = ames_prep.loc[ames_prep['BldgType_Duplex']==1, ['GrLivArea_log', 'SalePrice_log']]\n",
    "nduplex = ames_prep.loc[ames_prep['BldgType_Duplex']==0, ['GrLivArea_log', 'SalePrice_log']]\n",
    "\n",
    "regression = LinearRegression()\n",
    "regression.fit(yduplex['GrLivArea_log'].values.reshape(-1,1), yduplex['SalePrice_log'])\n",
    "plt.scatter([x*regression.coef_+regression.intercept_ for x in yduplex['GrLivArea_log']], yduplex['SalePrice_log'])"
   ]
  },
  {
   "cell_type": "markdown",
   "metadata": {},
   "source": [
    "## Build a final model with interactions"
   ]
  },
  {
   "cell_type": "markdown",
   "metadata": {},
   "source": [
    "Use 10-fold cross-validation to build a model using the above interaction. "
   ]
  },
  {
   "cell_type": "code",
   "execution_count": 16,
   "metadata": {},
   "outputs": [
    {
     "data": {
      "text/plain": [
       "0.8166763429743822"
      ]
     },
     "execution_count": 16,
     "metadata": {},
     "output_type": "execute_result"
    }
   ],
   "source": [
    "regression = LinearRegression()\n",
    "ames_prep['duplex_lotarea'] = ames_prep['BldgType_Duplex'] * ames_prep['LotArea_log']\n",
    "test = np.mean(cross_val_score(regression, ames_prep.drop('SalePrice_log', axis=1), ames_prep['SalePrice_log'], scoring='r2', cv=crossvalidation))\n",
    "test"
   ]
  },
  {
   "cell_type": "markdown",
   "metadata": {},
   "source": [
    "Our $R^2$ has increased considerably! Let's have a look in `statsmodels` to see if this interactions are significant."
   ]
  },
  {
   "cell_type": "code",
   "execution_count": 18,
   "metadata": {},
   "outputs": [],
   "source": [
    "import statsmodels.api as sm\n",
    "\n",
    "df = sm.add_constant(ames_prep.drop('SalePrice_log', axis=1))\n",
    "results = sm.OLS(ames_prep['SalePrice_log'], df).fit()"
   ]
  },
  {
   "cell_type": "code",
   "execution_count": 19,
   "metadata": {},
   "outputs": [
    {
     "data": {
      "text/html": [
       "<table class=\"simpletable\">\n",
       "<caption>OLS Regression Results</caption>\n",
       "<tr>\n",
       "  <th>Dep. Variable:</th>      <td>SalePrice_log</td>  <th>  R-squared:         </th> <td>   0.839</td>\n",
       "</tr>\n",
       "<tr>\n",
       "  <th>Model:</th>                   <td>OLS</td>       <th>  Adj. R-squared:    </th> <td>   0.834</td>\n",
       "</tr>\n",
       "<tr>\n",
       "  <th>Method:</th>             <td>Least Squares</td>  <th>  F-statistic:       </th> <td>   153.5</td>\n",
       "</tr>\n",
       "<tr>\n",
       "  <th>Date:</th>             <td>Wed, 29 Apr 2020</td> <th>  Prob (F-statistic):</th>  <td>  0.00</td> \n",
       "</tr>\n",
       "<tr>\n",
       "  <th>Time:</th>                 <td>14:12:34</td>     <th>  Log-Likelihood:    </th> <td> -736.62</td>\n",
       "</tr>\n",
       "<tr>\n",
       "  <th>No. Observations:</th>      <td>  1460</td>      <th>  AIC:               </th> <td>   1571.</td>\n",
       "</tr>\n",
       "<tr>\n",
       "  <th>Df Residuals:</th>          <td>  1411</td>      <th>  BIC:               </th> <td>   1830.</td>\n",
       "</tr>\n",
       "<tr>\n",
       "  <th>Df Model:</th>              <td>    48</td>      <th>                     </th>     <td> </td>   \n",
       "</tr>\n",
       "<tr>\n",
       "  <th>Covariance Type:</th>      <td>nonrobust</td>    <th>                     </th>     <td> </td>   \n",
       "</tr>\n",
       "</table>\n",
       "<table class=\"simpletable\">\n",
       "<tr>\n",
       "            <td></td>              <th>coef</th>     <th>std err</th>      <th>t</th>      <th>P>|t|</th>  <th>[0.025</th>    <th>0.975]</th>  \n",
       "</tr>\n",
       "<tr>\n",
       "  <th>const</th>                <td>   -0.0597</td> <td>    0.048</td> <td>   -1.254</td> <td> 0.210</td> <td>   -0.153</td> <td>    0.034</td>\n",
       "</tr>\n",
       "<tr>\n",
       "  <th>LotArea_log</th>          <td>    0.1069</td> <td>    0.019</td> <td>    5.635</td> <td> 0.000</td> <td>    0.070</td> <td>    0.144</td>\n",
       "</tr>\n",
       "<tr>\n",
       "  <th>1stFlrSF_log</th>         <td>    0.1367</td> <td>    0.016</td> <td>    8.562</td> <td> 0.000</td> <td>    0.105</td> <td>    0.168</td>\n",
       "</tr>\n",
       "<tr>\n",
       "  <th>GrLivArea_log</th>        <td>    0.3779</td> <td>    0.016</td> <td>   24.180</td> <td> 0.000</td> <td>    0.347</td> <td>    0.409</td>\n",
       "</tr>\n",
       "<tr>\n",
       "  <th>BldgType_1Fam</th>        <td>    0.1392</td> <td>    0.034</td> <td>    4.070</td> <td> 0.000</td> <td>    0.072</td> <td>    0.206</td>\n",
       "</tr>\n",
       "<tr>\n",
       "  <th>BldgType_2fmCon</th>      <td>   -0.0326</td> <td>    0.072</td> <td>   -0.455</td> <td> 0.650</td> <td>   -0.173</td> <td>    0.108</td>\n",
       "</tr>\n",
       "<tr>\n",
       "  <th>BldgType_Duplex</th>      <td>   -0.2686</td> <td>    0.056</td> <td>   -4.760</td> <td> 0.000</td> <td>   -0.379</td> <td>   -0.158</td>\n",
       "</tr>\n",
       "<tr>\n",
       "  <th>BldgType_Twnhs</th>       <td>    0.0073</td> <td>    0.074</td> <td>    0.100</td> <td> 0.921</td> <td>   -0.137</td> <td>    0.152</td>\n",
       "</tr>\n",
       "<tr>\n",
       "  <th>BldgType_TwnhsE</th>      <td>    0.0950</td> <td>    0.048</td> <td>    1.996</td> <td> 0.046</td> <td>    0.002</td> <td>    0.188</td>\n",
       "</tr>\n",
       "<tr>\n",
       "  <th>KitchenQual_Ex</th>       <td>    0.4974</td> <td>    0.045</td> <td>   11.110</td> <td> 0.000</td> <td>    0.410</td> <td>    0.585</td>\n",
       "</tr>\n",
       "<tr>\n",
       "  <th>KitchenQual_Fa</th>       <td>   -0.5024</td> <td>    0.057</td> <td>   -8.798</td> <td> 0.000</td> <td>   -0.614</td> <td>   -0.390</td>\n",
       "</tr>\n",
       "<tr>\n",
       "  <th>KitchenQual_Gd</th>       <td>    0.1168</td> <td>    0.028</td> <td>    4.205</td> <td> 0.000</td> <td>    0.062</td> <td>    0.171</td>\n",
       "</tr>\n",
       "<tr>\n",
       "  <th>KitchenQual_TA</th>       <td>   -0.1714</td> <td>    0.027</td> <td>   -6.386</td> <td> 0.000</td> <td>   -0.224</td> <td>   -0.119</td>\n",
       "</tr>\n",
       "<tr>\n",
       "  <th>SaleType_COD</th>         <td>   -0.1986</td> <td>    0.080</td> <td>   -2.471</td> <td> 0.014</td> <td>   -0.356</td> <td>   -0.041</td>\n",
       "</tr>\n",
       "<tr>\n",
       "  <th>SaleType_CWD</th>         <td>    0.0287</td> <td>    0.191</td> <td>    0.150</td> <td> 0.881</td> <td>   -0.346</td> <td>    0.403</td>\n",
       "</tr>\n",
       "<tr>\n",
       "  <th>SaleType_Con</th>         <td>    0.3839</td> <td>    0.269</td> <td>    1.426</td> <td> 0.154</td> <td>   -0.144</td> <td>    0.912</td>\n",
       "</tr>\n",
       "<tr>\n",
       "  <th>SaleType_ConLD</th>       <td>    0.1147</td> <td>    0.138</td> <td>    0.834</td> <td> 0.405</td> <td>   -0.155</td> <td>    0.385</td>\n",
       "</tr>\n",
       "<tr>\n",
       "  <th>SaleType_ConLI</th>       <td>   -0.1702</td> <td>    0.173</td> <td>   -0.986</td> <td> 0.324</td> <td>   -0.509</td> <td>    0.169</td>\n",
       "</tr>\n",
       "<tr>\n",
       "  <th>SaleType_ConLw</th>       <td>   -0.1836</td> <td>    0.173</td> <td>   -1.060</td> <td> 0.290</td> <td>   -0.524</td> <td>    0.156</td>\n",
       "</tr>\n",
       "<tr>\n",
       "  <th>SaleType_New</th>         <td>    0.0998</td> <td>    0.068</td> <td>    1.468</td> <td> 0.142</td> <td>   -0.034</td> <td>    0.233</td>\n",
       "</tr>\n",
       "<tr>\n",
       "  <th>SaleType_Oth</th>         <td>   -0.1092</td> <td>    0.219</td> <td>   -0.500</td> <td> 0.617</td> <td>   -0.538</td> <td>    0.320</td>\n",
       "</tr>\n",
       "<tr>\n",
       "  <th>SaleType_WD</th>          <td>   -0.0250</td> <td>    0.057</td> <td>   -0.437</td> <td> 0.662</td> <td>   -0.137</td> <td>    0.087</td>\n",
       "</tr>\n",
       "<tr>\n",
       "  <th>MSZoning_C (all)</th>     <td>   -0.8191</td> <td>    0.130</td> <td>   -6.296</td> <td> 0.000</td> <td>   -1.074</td> <td>   -0.564</td>\n",
       "</tr>\n",
       "<tr>\n",
       "  <th>MSZoning_FV</th>          <td>    0.2509</td> <td>    0.096</td> <td>    2.614</td> <td> 0.009</td> <td>    0.063</td> <td>    0.439</td>\n",
       "</tr>\n",
       "<tr>\n",
       "  <th>MSZoning_RH</th>          <td>    0.0451</td> <td>    0.098</td> <td>    0.459</td> <td> 0.647</td> <td>   -0.148</td> <td>    0.238</td>\n",
       "</tr>\n",
       "<tr>\n",
       "  <th>MSZoning_RL</th>          <td>    0.1795</td> <td>    0.049</td> <td>    3.694</td> <td> 0.000</td> <td>    0.084</td> <td>    0.275</td>\n",
       "</tr>\n",
       "<tr>\n",
       "  <th>MSZoning_RM</th>          <td>    0.2839</td> <td>    0.054</td> <td>    5.230</td> <td> 0.000</td> <td>    0.177</td> <td>    0.390</td>\n",
       "</tr>\n",
       "<tr>\n",
       "  <th>Street_Grvl</th>          <td>    0.0794</td> <td>    0.109</td> <td>    0.732</td> <td> 0.465</td> <td>   -0.134</td> <td>    0.292</td>\n",
       "</tr>\n",
       "<tr>\n",
       "  <th>Street_Pave</th>          <td>   -0.1391</td> <td>    0.075</td> <td>   -1.861</td> <td> 0.063</td> <td>   -0.286</td> <td>    0.008</td>\n",
       "</tr>\n",
       "<tr>\n",
       "  <th>Neighborhood_Blmngtn</th> <td>    0.2333</td> <td>    0.111</td> <td>    2.100</td> <td> 0.036</td> <td>    0.015</td> <td>    0.451</td>\n",
       "</tr>\n",
       "<tr>\n",
       "  <th>Neighborhood_Blueste</th> <td>    0.2912</td> <td>    0.286</td> <td>    1.017</td> <td> 0.309</td> <td>   -0.270</td> <td>    0.853</td>\n",
       "</tr>\n",
       "<tr>\n",
       "  <th>Neighborhood_BrDale</th>  <td>   -0.2247</td> <td>    0.122</td> <td>   -1.841</td> <td> 0.066</td> <td>   -0.464</td> <td>    0.015</td>\n",
       "</tr>\n",
       "<tr>\n",
       "  <th>Neighborhood_BrkSide</th> <td>   -0.4134</td> <td>    0.063</td> <td>   -6.550</td> <td> 0.000</td> <td>   -0.537</td> <td>   -0.290</td>\n",
       "</tr>\n",
       "<tr>\n",
       "  <th>Neighborhood_ClearCr</th> <td>    0.0166</td> <td>    0.082</td> <td>    0.202</td> <td> 0.840</td> <td>   -0.144</td> <td>    0.178</td>\n",
       "</tr>\n",
       "<tr>\n",
       "  <th>Neighborhood_CollgCr</th> <td>    0.1560</td> <td>    0.041</td> <td>    3.822</td> <td> 0.000</td> <td>    0.076</td> <td>    0.236</td>\n",
       "</tr>\n",
       "<tr>\n",
       "  <th>Neighborhood_Crawfor</th> <td>    0.1441</td> <td>    0.060</td> <td>    2.398</td> <td> 0.017</td> <td>    0.026</td> <td>    0.262</td>\n",
       "</tr>\n",
       "<tr>\n",
       "  <th>Neighborhood_Edwards</th> <td>   -0.5277</td> <td>    0.046</td> <td>  -11.520</td> <td> 0.000</td> <td>   -0.618</td> <td>   -0.438</td>\n",
       "</tr>\n",
       "<tr>\n",
       "  <th>Neighborhood_Gilbert</th> <td>    0.1330</td> <td>    0.052</td> <td>    2.537</td> <td> 0.011</td> <td>    0.030</td> <td>    0.236</td>\n",
       "</tr>\n",
       "<tr>\n",
       "  <th>Neighborhood_IDOTRR</th>  <td>   -0.7267</td> <td>    0.093</td> <td>   -7.791</td> <td> 0.000</td> <td>   -0.910</td> <td>   -0.544</td>\n",
       "</tr>\n",
       "<tr>\n",
       "  <th>Neighborhood_MeadowV</th> <td>   -0.4538</td> <td>    0.111</td> <td>   -4.082</td> <td> 0.000</td> <td>   -0.672</td> <td>   -0.236</td>\n",
       "</tr>\n",
       "<tr>\n",
       "  <th>Neighborhood_Mitchel</th> <td>   -0.0120</td> <td>    0.062</td> <td>   -0.192</td> <td> 0.848</td> <td>   -0.135</td> <td>    0.111</td>\n",
       "</tr>\n",
       "<tr>\n",
       "  <th>Neighborhood_NAmes</th>   <td>   -0.2076</td> <td>    0.038</td> <td>   -5.504</td> <td> 0.000</td> <td>   -0.282</td> <td>   -0.134</td>\n",
       "</tr>\n",
       "<tr>\n",
       "  <th>Neighborhood_NPkVill</th> <td>    0.2173</td> <td>    0.141</td> <td>    1.542</td> <td> 0.123</td> <td>   -0.059</td> <td>    0.494</td>\n",
       "</tr>\n",
       "<tr>\n",
       "  <th>Neighborhood_NWAmes</th>  <td>   -0.0358</td> <td>    0.053</td> <td>   -0.676</td> <td> 0.499</td> <td>   -0.140</td> <td>    0.068</td>\n",
       "</tr>\n",
       "<tr>\n",
       "  <th>Neighborhood_NoRidge</th> <td>    0.5917</td> <td>    0.070</td> <td>    8.467</td> <td> 0.000</td> <td>    0.455</td> <td>    0.729</td>\n",
       "</tr>\n",
       "<tr>\n",
       "  <th>Neighborhood_NridgHt</th> <td>    0.5925</td> <td>    0.058</td> <td>   10.240</td> <td> 0.000</td> <td>    0.479</td> <td>    0.706</td>\n",
       "</tr>\n",
       "<tr>\n",
       "  <th>Neighborhood_OldTown</th> <td>   -0.7019</td> <td>    0.062</td> <td>  -11.412</td> <td> 0.000</td> <td>   -0.822</td> <td>   -0.581</td>\n",
       "</tr>\n",
       "<tr>\n",
       "  <th>Neighborhood_SWISU</th>   <td>   -0.4632</td> <td>    0.086</td> <td>   -5.369</td> <td> 0.000</td> <td>   -0.632</td> <td>   -0.294</td>\n",
       "</tr>\n",
       "<tr>\n",
       "  <th>Neighborhood_Sawyer</th>  <td>   -0.2360</td> <td>    0.054</td> <td>   -4.384</td> <td> 0.000</td> <td>   -0.342</td> <td>   -0.130</td>\n",
       "</tr>\n",
       "<tr>\n",
       "  <th>Neighborhood_SawyerW</th> <td>   -0.0088</td> <td>    0.058</td> <td>   -0.151</td> <td> 0.880</td> <td>   -0.123</td> <td>    0.105</td>\n",
       "</tr>\n",
       "<tr>\n",
       "  <th>Neighborhood_Somerst</th> <td>    0.3263</td> <td>    0.092</td> <td>    3.547</td> <td> 0.000</td> <td>    0.146</td> <td>    0.507</td>\n",
       "</tr>\n",
       "<tr>\n",
       "  <th>Neighborhood_StoneBr</th> <td>    0.6592</td> <td>    0.087</td> <td>    7.555</td> <td> 0.000</td> <td>    0.488</td> <td>    0.830</td>\n",
       "</tr>\n",
       "<tr>\n",
       "  <th>Neighborhood_Timber</th>  <td>    0.2343</td> <td>    0.070</td> <td>    3.337</td> <td> 0.001</td> <td>    0.097</td> <td>    0.372</td>\n",
       "</tr>\n",
       "<tr>\n",
       "  <th>Neighborhood_Veenker</th> <td>    0.3562</td> <td>    0.125</td> <td>    2.856</td> <td> 0.004</td> <td>    0.112</td> <td>    0.601</td>\n",
       "</tr>\n",
       "<tr>\n",
       "  <th>duplex_lotarea</th>       <td>   -0.1974</td> <td>    0.115</td> <td>   -1.717</td> <td> 0.086</td> <td>   -0.423</td> <td>    0.028</td>\n",
       "</tr>\n",
       "</table>\n",
       "<table class=\"simpletable\">\n",
       "<tr>\n",
       "  <th>Omnibus:</th>       <td>296.247</td> <th>  Durbin-Watson:     </th> <td>   1.971</td> \n",
       "</tr>\n",
       "<tr>\n",
       "  <th>Prob(Omnibus):</th> <td> 0.000</td>  <th>  Jarque-Bera (JB):  </th> <td>1274.332</td> \n",
       "</tr>\n",
       "<tr>\n",
       "  <th>Skew:</th>          <td>-0.905</td>  <th>  Prob(JB):          </th> <td>1.92e-277</td>\n",
       "</tr>\n",
       "<tr>\n",
       "  <th>Kurtosis:</th>      <td> 7.204</td>  <th>  Cond. No.          </th> <td>1.50e+16</td> \n",
       "</tr>\n",
       "</table><br/><br/>Warnings:<br/>[1] Standard Errors assume that the covariance matrix of the errors is correctly specified.<br/>[2] The smallest eigenvalue is 3.03e-29. This might indicate that there are<br/>strong multicollinearity problems or that the design matrix is singular."
      ],
      "text/plain": [
       "<class 'statsmodels.iolib.summary.Summary'>\n",
       "\"\"\"\n",
       "                            OLS Regression Results                            \n",
       "==============================================================================\n",
       "Dep. Variable:          SalePrice_log   R-squared:                       0.839\n",
       "Model:                            OLS   Adj. R-squared:                  0.834\n",
       "Method:                 Least Squares   F-statistic:                     153.5\n",
       "Date:                Wed, 29 Apr 2020   Prob (F-statistic):               0.00\n",
       "Time:                        14:12:34   Log-Likelihood:                -736.62\n",
       "No. Observations:                1460   AIC:                             1571.\n",
       "Df Residuals:                    1411   BIC:                             1830.\n",
       "Df Model:                          48                                         \n",
       "Covariance Type:            nonrobust                                         \n",
       "========================================================================================\n",
       "                           coef    std err          t      P>|t|      [0.025      0.975]\n",
       "----------------------------------------------------------------------------------------\n",
       "const                   -0.0597      0.048     -1.254      0.210      -0.153       0.034\n",
       "LotArea_log              0.1069      0.019      5.635      0.000       0.070       0.144\n",
       "1stFlrSF_log             0.1367      0.016      8.562      0.000       0.105       0.168\n",
       "GrLivArea_log            0.3779      0.016     24.180      0.000       0.347       0.409\n",
       "BldgType_1Fam            0.1392      0.034      4.070      0.000       0.072       0.206\n",
       "BldgType_2fmCon         -0.0326      0.072     -0.455      0.650      -0.173       0.108\n",
       "BldgType_Duplex         -0.2686      0.056     -4.760      0.000      -0.379      -0.158\n",
       "BldgType_Twnhs           0.0073      0.074      0.100      0.921      -0.137       0.152\n",
       "BldgType_TwnhsE          0.0950      0.048      1.996      0.046       0.002       0.188\n",
       "KitchenQual_Ex           0.4974      0.045     11.110      0.000       0.410       0.585\n",
       "KitchenQual_Fa          -0.5024      0.057     -8.798      0.000      -0.614      -0.390\n",
       "KitchenQual_Gd           0.1168      0.028      4.205      0.000       0.062       0.171\n",
       "KitchenQual_TA          -0.1714      0.027     -6.386      0.000      -0.224      -0.119\n",
       "SaleType_COD            -0.1986      0.080     -2.471      0.014      -0.356      -0.041\n",
       "SaleType_CWD             0.0287      0.191      0.150      0.881      -0.346       0.403\n",
       "SaleType_Con             0.3839      0.269      1.426      0.154      -0.144       0.912\n",
       "SaleType_ConLD           0.1147      0.138      0.834      0.405      -0.155       0.385\n",
       "SaleType_ConLI          -0.1702      0.173     -0.986      0.324      -0.509       0.169\n",
       "SaleType_ConLw          -0.1836      0.173     -1.060      0.290      -0.524       0.156\n",
       "SaleType_New             0.0998      0.068      1.468      0.142      -0.034       0.233\n",
       "SaleType_Oth            -0.1092      0.219     -0.500      0.617      -0.538       0.320\n",
       "SaleType_WD             -0.0250      0.057     -0.437      0.662      -0.137       0.087\n",
       "MSZoning_C (all)        -0.8191      0.130     -6.296      0.000      -1.074      -0.564\n",
       "MSZoning_FV              0.2509      0.096      2.614      0.009       0.063       0.439\n",
       "MSZoning_RH              0.0451      0.098      0.459      0.647      -0.148       0.238\n",
       "MSZoning_RL              0.1795      0.049      3.694      0.000       0.084       0.275\n",
       "MSZoning_RM              0.2839      0.054      5.230      0.000       0.177       0.390\n",
       "Street_Grvl              0.0794      0.109      0.732      0.465      -0.134       0.292\n",
       "Street_Pave             -0.1391      0.075     -1.861      0.063      -0.286       0.008\n",
       "Neighborhood_Blmngtn     0.2333      0.111      2.100      0.036       0.015       0.451\n",
       "Neighborhood_Blueste     0.2912      0.286      1.017      0.309      -0.270       0.853\n",
       "Neighborhood_BrDale     -0.2247      0.122     -1.841      0.066      -0.464       0.015\n",
       "Neighborhood_BrkSide    -0.4134      0.063     -6.550      0.000      -0.537      -0.290\n",
       "Neighborhood_ClearCr     0.0166      0.082      0.202      0.840      -0.144       0.178\n",
       "Neighborhood_CollgCr     0.1560      0.041      3.822      0.000       0.076       0.236\n",
       "Neighborhood_Crawfor     0.1441      0.060      2.398      0.017       0.026       0.262\n",
       "Neighborhood_Edwards    -0.5277      0.046    -11.520      0.000      -0.618      -0.438\n",
       "Neighborhood_Gilbert     0.1330      0.052      2.537      0.011       0.030       0.236\n",
       "Neighborhood_IDOTRR     -0.7267      0.093     -7.791      0.000      -0.910      -0.544\n",
       "Neighborhood_MeadowV    -0.4538      0.111     -4.082      0.000      -0.672      -0.236\n",
       "Neighborhood_Mitchel    -0.0120      0.062     -0.192      0.848      -0.135       0.111\n",
       "Neighborhood_NAmes      -0.2076      0.038     -5.504      0.000      -0.282      -0.134\n",
       "Neighborhood_NPkVill     0.2173      0.141      1.542      0.123      -0.059       0.494\n",
       "Neighborhood_NWAmes     -0.0358      0.053     -0.676      0.499      -0.140       0.068\n",
       "Neighborhood_NoRidge     0.5917      0.070      8.467      0.000       0.455       0.729\n",
       "Neighborhood_NridgHt     0.5925      0.058     10.240      0.000       0.479       0.706\n",
       "Neighborhood_OldTown    -0.7019      0.062    -11.412      0.000      -0.822      -0.581\n",
       "Neighborhood_SWISU      -0.4632      0.086     -5.369      0.000      -0.632      -0.294\n",
       "Neighborhood_Sawyer     -0.2360      0.054     -4.384      0.000      -0.342      -0.130\n",
       "Neighborhood_SawyerW    -0.0088      0.058     -0.151      0.880      -0.123       0.105\n",
       "Neighborhood_Somerst     0.3263      0.092      3.547      0.000       0.146       0.507\n",
       "Neighborhood_StoneBr     0.6592      0.087      7.555      0.000       0.488       0.830\n",
       "Neighborhood_Timber      0.2343      0.070      3.337      0.001       0.097       0.372\n",
       "Neighborhood_Veenker     0.3562      0.125      2.856      0.004       0.112       0.601\n",
       "duplex_lotarea          -0.1974      0.115     -1.717      0.086      -0.423       0.028\n",
       "==============================================================================\n",
       "Omnibus:                      296.247   Durbin-Watson:                   1.971\n",
       "Prob(Omnibus):                  0.000   Jarque-Bera (JB):             1274.332\n",
       "Skew:                          -0.905   Prob(JB):                    1.92e-277\n",
       "Kurtosis:                       7.204   Cond. No.                     1.50e+16\n",
       "==============================================================================\n",
       "\n",
       "Warnings:\n",
       "[1] Standard Errors assume that the covariance matrix of the errors is correctly specified.\n",
       "[2] The smallest eigenvalue is 3.03e-29. This might indicate that there are\n",
       "strong multicollinearity problems or that the design matrix is singular.\n",
       "\"\"\""
      ]
     },
     "execution_count": 19,
     "metadata": {},
     "output_type": "execute_result"
    }
   ],
   "source": [
    "results.summary()"
   ]
  },
  {
   "cell_type": "markdown",
   "metadata": {},
   "source": [
    "What is your conclusion here?"
   ]
  },
  {
   "cell_type": "code",
   "execution_count": 14,
   "metadata": {},
   "outputs": [],
   "source": [
    "# formulate your conclusion"
   ]
  },
  {
   "cell_type": "markdown",
   "metadata": {},
   "source": [
    "## Summary"
   ]
  },
  {
   "cell_type": "markdown",
   "metadata": {},
   "source": [
    "You should now understand how to include interaction effects in your model! As you can see, interactions can have a strong impact on linear regression models, and they should always be considered when you are constructing your models."
   ]
  }
 ],
 "metadata": {
  "kernelspec": {
   "display_name": "Python 3",
   "language": "python",
   "name": "python3"
  },
  "language_info": {
   "codemirror_mode": {
    "name": "ipython",
    "version": 3
   },
   "file_extension": ".py",
   "mimetype": "text/x-python",
   "name": "python",
   "nbconvert_exporter": "python",
   "pygments_lexer": "ipython3",
   "version": "3.6.9"
  }
 },
 "nbformat": 4,
 "nbformat_minor": 2
}
